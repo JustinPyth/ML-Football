{
 "cells": [
  {
   "cell_type": "markdown",
   "metadata": {},
   "source": [
    "# Projet de Data Mining (Web Scraping)"
   ]
  },
  {
   "cell_type": "markdown",
   "metadata": {},
   "source": [
    "Le Jupyter Notebook suivant s'inscrit dans le projet de Data Mining sur la prédiction des matchs de football. Nous avons écrit ce code pour récupérer des informations supplémentaires qui, nous l'espérons, devraient nous permettre d'améliorer les prédictions de notre modèle. Ce code propose donc une technique de Web Scraping, en utilisant la librairie Selenium, permettant de récupérer les informations sur les notes Fifa des équipes et des joueurs de Ligue 1 (partie 1) et les notes provenant du journal L'Equipe des joueurs, entraîneurs et arbitres de Ligue 1 sur les matchs de championnat de Ligue 1 de la saison 2019-2020 (partie 2)."
   ]
  },
  {
   "cell_type": "code",
   "execution_count": 1,
   "metadata": {
    "ExecuteTime": {
     "end_time": "2020-04-16T19:27:15.104409Z",
     "start_time": "2020-04-16T19:27:14.866071Z"
    }
   },
   "outputs": [],
   "source": [
    "# Scrapping \n",
    "from selenium import webdriver # launch and initialise a browser\n",
    "from selenium.webdriver.common.by import By # search using a specific parameter\n",
    "from selenium.webdriver.support.ui import WebDriverWait # wait for page to load \n",
    "from selenium.webdriver.support import expected_conditions as EC #Specify what you are looking for on a specific page in order to determine that the webpage has loaded.\n",
    "from selenium.common.exceptions import TimeoutException #Handling a timeout situation \n",
    "\n",
    "from time import sleep"
   ]
  },
  {
   "cell_type": "code",
   "execution_count": 2,
   "metadata": {
    "ExecuteTime": {
     "end_time": "2020-04-16T19:27:32.302863Z",
     "start_time": "2020-04-16T19:27:25.113330Z"
    }
   },
   "outputs": [],
   "source": [
    "option = webdriver.ChromeOptions()\n",
    "option.add_argument(\"— incognito\")\n",
    "browser = webdriver.Chrome(executable_path= r'C:\\Users\\33679\\chromedriver_win32\\chromedriver.exe'\n",
    "                           ,options=option)"
   ]
  },
  {
   "cell_type": "code",
   "execution_count": 3,
   "metadata": {
    "ExecuteTime": {
     "end_time": "2020-04-16T19:27:38.324890Z",
     "start_time": "2020-04-16T19:27:38.319939Z"
    }
   },
   "outputs": [],
   "source": [
    "def get_page(url):\n",
    "    browser.maximize_window()\n",
    "    sleep(1)\n",
    "    browser.get(url)\n",
    "    sleep(1)"
   ]
  },
  {
   "cell_type": "markdown",
   "metadata": {},
   "source": [
    "## Récupération des notes des joueurs (Fifa)"
   ]
  },
  {
   "cell_type": "markdown",
   "metadata": {},
   "source": [
    "https://www.fifaindex.com/fr/teams/?league=16"
   ]
  },
  {
   "cell_type": "code",
   "execution_count": null,
   "metadata": {},
   "outputs": [],
   "source": [
    "url= 'https://www.fifaindex.com/fr/teams/?league=16'\n",
    "get_page(url)"
   ]
  },
  {
   "cell_type": "code",
   "execution_count": null,
   "metadata": {},
   "outputs": [],
   "source": [
    "equipe = []\n",
    "attaque = []\n",
    "milieu = []\n",
    "defense = []\n",
    "general = []\n",
    "url = []\n",
    "\n",
    "try : \n",
    "    for i in range(20):\n",
    "        equipe.append(browser.find_elements_by_xpath(\"//td[@data-title='Nom']\")[i].text)\n",
    "        attaque.append(browser.find_elements_by_xpath(\"//td[@data-title='ATT']\")[i].text)\n",
    "        milieu.append(browser.find_elements_by_xpath(\"//td[@data-title='MIL']\")[i].text)\n",
    "        defense.append(browser.find_elements_by_xpath(\"//td[@data-title='DÉF']\")[i].text)\n",
    "        general.append(browser.find_elements_by_xpath(\"//td[@data-title='GEN']\")[i].text)\n",
    "        url.append(browser.find_elements_by_xpath(\"//td[@data-title='Nom']\")[i].get_attribute(\"href\"))\n",
    "except : pass\n",
    "\n",
    "equipe = pd.DataFrame(equipe, columns=[\"Equipe\"])\n",
    "attaque = pd.DataFrame(attaque, columns=[\"Attaque\"])\n",
    "milieu = pd.DataFrame(milieu, columns=[\"Milieu\"])\n",
    "defense = pd.DataFrame(defense, columns=[\"Défense\"])\n",
    "general = pd.DataFrame(general, columns=[\"Général\"])\n",
    "\n",
    "notes_equipes_L1 = pd.concat([equipe, attaque, milieu, defense, general], axis=1)\n",
    "notes_equipes_L1.to_excel(\n",
    "        \"Données/Notes_FIFA/df_notes_equipe.xls\", index=False)"
   ]
  },
  {
   "cell_type": "markdown",
   "metadata": {},
   "source": [
    "Nous récupérons désormais les url de chaque équipe nous permettant d'accéder à la page recueillant les notes des joueurs par équipe. "
   ]
  },
  {
   "cell_type": "code",
   "execution_count": null,
   "metadata": {},
   "outputs": [],
   "source": [
    "browser.find_elements_by_class_name(\"link-team\")[2].get_attribute(\"href\")"
   ]
  },
  {
   "cell_type": "code",
   "execution_count": null,
   "metadata": {},
   "outputs": [],
   "source": [
    "url_equipe = []\n",
    "try : \n",
    "    for i in range(60):\n",
    "        url_equipe.append(browser.find_elements_by_class_name(\"link-team\")[i].get_attribute(\"href\"))\n",
    "except : pass\n",
    "\n",
    "url_equipe = list(dict.fromkeys(url_equipe))"
   ]
  },
  {
   "cell_type": "code",
   "execution_count": null,
   "metadata": {},
   "outputs": [],
   "source": [
    "for i in range(len(url_equipe)):\n",
    "    print(url_equipe[i])"
   ]
  },
  {
   "cell_type": "code",
   "execution_count": null,
   "metadata": {},
   "outputs": [],
   "source": [
    "def get_notes_joueurs():\n",
    "\n",
    "    nom_joueur = []\n",
    "    numero = []\n",
    "    poste = []\n",
    "    general = []\n",
    "    potentiel = []\n",
    "\n",
    "    try : \n",
    "        for i in range(40):\n",
    "            nom_joueur.append(browser.find_elements_by_xpath(\"//td[@data-title='Nom']\")[i].text)\n",
    "            numero.append(browser.find_elements_by_xpath(\"//td[@data-title='Numéro']\")[i].text)\n",
    "            poste.append(browser.find_elements_by_xpath(\"//td[@data-title='Poste']\")[i].text)\n",
    "            general.append(browser.find_elements_by_xpath(\"//td[@data-title='GEN / POT']\")[i].text[:2])\n",
    "            potentiel.append(browser.find_elements_by_xpath(\"//td[@data-title='GEN / POT']\")[i].text[-2:])\n",
    "\n",
    "    except : pass\n",
    "\n",
    "    nom_joueur = pd.DataFrame(nom_joueur, columns=['Nom'])\n",
    "    numero = pd.DataFrame(numero, columns=[\"Numéro\"])\n",
    "    poste = pd.DataFrame(poste, columns=[\"Poste\"])\n",
    "    general = pd.DataFrame(general, columns=[\"Général\"])\n",
    "    potentiel = pd.DataFrame(potentiel, columns=[\"Potentiel\"])\n",
    "\n",
    "    notes_joueurs = pd.concat([nom_joueur, numero, poste, general, potentiel], axis=1)\n",
    "    \n",
    "    return notes_joueurs\n",
    "    "
   ]
  },
  {
   "cell_type": "code",
   "execution_count": null,
   "metadata": {},
   "outputs": [],
   "source": [
    "try : \n",
    "    for i in range(len(url_equipe)) :\n",
    "        get_page(url_equipe[i])\n",
    "        globals()[\"{}\".format(equipe.loc[i][0])] = get_notes_joueurs()\n",
    "        globals()[\"{}\".format(equipe.loc[i][0])].to_excel(\"Données/Notes_joueurs//{}.xls\".format(equipe.loc[i][0]),index=False)\n",
    "except : pass"
   ]
  },
  {
   "cell_type": "code",
   "execution_count": null,
   "metadata": {},
   "outputs": [],
   "source": [
    "PSG"
   ]
  },
  {
   "cell_type": "markdown",
   "metadata": {},
   "source": [
    "## Récupération des notes des joueurs à partir du journal L'Equipe"
   ]
  },
  {
   "cell_type": "markdown",
   "metadata": {},
   "source": [
    "### Récupération des notes individuelles des joueurs après chaque match (Journaux sportifs)"
   ]
  },
  {
   "cell_type": "markdown",
   "metadata": {},
   "source": [
    "https://www.lequipe.fr/Football/les-notes/matchs/ligue-1/2019-2020/toutes-les-journees/"
   ]
  },
  {
   "cell_type": "code",
   "execution_count": null,
   "metadata": {},
   "outputs": [],
   "source": [
    "url= 'https://www.lequipe.fr/Football/les-notes/matchs/ligue-1/2019-2020/toutes-les-journees/'\n",
    "get_page(url)"
   ]
  },
  {
   "cell_type": "markdown",
   "metadata": {},
   "source": [
    "On récupère l'url de chaque match où se trouve les notes des joueurs. Alternativement, il aurait été possible de cliquer directement dessus en utilisant les fonctionnalités de la librarie Selenium."
   ]
  },
  {
   "cell_type": "code",
   "execution_count": null,
   "metadata": {},
   "outputs": [],
   "source": [
    "url_match = []\n",
    "try : \n",
    "    for i in range(1,281):\n",
    "        url_match.append(browser.find_elements_by_class_name(\"list__item\")[i].find_element_by_tag_name('a').get_attribute(\"href\"))\n",
    "\n",
    "except: pass"
   ]
  },
  {
   "cell_type": "code",
   "execution_count": null,
   "metadata": {},
   "outputs": [],
   "source": [
    "len(url_match)"
   ]
  },
  {
   "cell_type": "code",
   "execution_count": null,
   "metadata": {},
   "outputs": [],
   "source": [
    " def get_notes_lequipe(url):\n",
    "        \n",
    "    home_team = []\n",
    "    away_team = []\n",
    "    score = []\n",
    "    journee = []\n",
    "    equipe_joueur = []\n",
    "    joueur = []\n",
    "    note_joueur = []\n",
    "\n",
    "\n",
    "    for k in range(len(url)):\n",
    "        try :\n",
    "            get_page(url[k])\n",
    "\n",
    "        except : pass \n",
    "\n",
    "        try : \n",
    "\n",
    "            for i in range(11) :\n",
    "                journee.append(browser.find_element_by_class_name(\"SelectNav__selectWrapper\").text.rsplit(',',2)[0].rsplit('\\n',2)[1])\n",
    "                home_team.append(browser.find_element_by_class_name(\"TeamScore\").find_elements_by_tag_name('a')[0].text)\n",
    "                away_team.append(browser.find_element_by_class_name(\"TeamScore\").find_elements_by_tag_name('a')[2].text)\n",
    "                score.append(browser.find_element_by_class_name(\"TeamScore\").find_elements_by_tag_name('a')[1].text)\n",
    "                equipe_joueur.append(browser.find_element_by_class_name(\"TeamScore\").find_elements_by_tag_name('a')[0].text)\n",
    "                joueur.append(browser.find_elements_by_class_name(\"fieldPlayer.fieldPlayer--positionned\")[i].find_elements_by_tag_name('span')[1].text)\n",
    "                note_joueur.append(browser.find_elements_by_class_name(\"fieldPlayer.fieldPlayer--positionned\")[i].find_elements_by_tag_name('span')[0].text)\n",
    "\n",
    "            for j in range(11,22):\n",
    "                journee.append(browser.find_element_by_class_name(\"SelectNav__selectWrapper\").text.rsplit(',',2)[0].rsplit('\\n',2)[1])\n",
    "                home_team.append(browser.find_element_by_class_name(\"TeamScore\").find_elements_by_tag_name('a')[0].text)\n",
    "                away_team.append(browser.find_element_by_class_name(\"TeamScore\").find_elements_by_tag_name('a')[2].text)\n",
    "                score.append(browser.find_element_by_class_name(\"TeamScore\").find_elements_by_tag_name('a')[1].text)\n",
    "                equipe_joueur.append(browser.find_element_by_class_name(\"TeamScore\").find_elements_by_tag_name('a')[2].text)\n",
    "                joueur.append(browser.find_elements_by_class_name(\"fieldPlayer.fieldPlayer--positionned\")[j].find_elements_by_tag_name('span')[1].text)\n",
    "                note_joueur.append(browser.find_elements_by_class_name(\"fieldPlayer.fieldPlayer--positionned\")[j].find_elements_by_tag_name('span')[0].text)\n",
    "        except : pass\n",
    "\n",
    "    home_team = pd.DataFrame(home_team, columns=['HomeTeam'])\n",
    "    away_team = pd.DataFrame(away_team, columns=['AwayTeam'])\n",
    "    journee = pd.DataFrame(journee, columns=['Journée'])\n",
    "    equipe_joueur = pd.DataFrame(equipe_joueur, columns= ['Equipe Joueur'])\n",
    "    joueur = pd.DataFrame(joueur, columns=['Joueur'])\n",
    "    note_joueur = pd.DataFrame(note_joueur, columns=[\"Note L'Equipe\"])\n",
    "    score = pd.DataFrame(score, columns = ['Score'])\n",
    "\n",
    "    df_notes_lequipe = pd.concat([journee, home_team, away_team, score, equipe_joueur, joueur, note_joueur], axis = 1)\n",
    "    df_notes_lequipe.to_excel(\"Données/Notes_Lequipe/df_notes_lequipe_1.xls\",index=False)\n",
    "    \n",
    "    return df_notes_lequipe"
   ]
  },
  {
   "cell_type": "code",
   "execution_count": null,
   "metadata": {},
   "outputs": [],
   "source": [
    "get_notes_lequipe(url_match)"
   ]
  },
  {
   "cell_type": "markdown",
   "metadata": {
    "ExecuteTime": {
     "end_time": "2020-04-16T19:32:02.095366Z",
     "start_time": "2020-04-16T19:32:02.090379Z"
    }
   },
   "source": [
    "Il faut compter environ 1h10min pour récupérer l'intégralité des notes des 10 matchs des 28 journées ayant eu lieu."
   ]
  },
  {
   "cell_type": "code",
   "execution_count": null,
   "metadata": {},
   "outputs": [],
   "source": [
    "df_notes_lequipe = pd.read_excel('Données/Notes_Lequipe/df_notes_lequipe.xls')"
   ]
  },
  {
   "cell_type": "code",
   "execution_count": null,
   "metadata": {},
   "outputs": [],
   "source": [
    "df_notes_lequipe = df_notes_lequipe[df_notes_lequipe['Note L\\'Equipe'] != '-']\n",
    "df_notes_lequipe = df_notes_lequipe.reset_index(drop = True)\n",
    "df_notes_lequipe[\"Note L\\'Equipe\"] = pd.to_numeric(df_notes_lequipe[\"Note L\\'Equipe\"])"
   ]
  },
  {
   "cell_type": "code",
   "execution_count": 1,
   "metadata": {
    "ExecuteTime": {
     "end_time": "2020-04-18T07:55:00.060277Z",
     "start_time": "2020-04-18T07:54:59.985980Z"
    }
   },
   "outputs": [
    {
     "ename": "NameError",
     "evalue": "name 'df_notes_lequipe' is not defined",
     "output_type": "error",
     "traceback": [
      "\u001b[1;31m---------------------------------------------------------------------------\u001b[0m",
      "\u001b[1;31mNameError\u001b[0m                                 Traceback (most recent call last)",
      "\u001b[1;32m<ipython-input-1-2c6a590fd773>\u001b[0m in \u001b[0;36m<module>\u001b[1;34m\u001b[0m\n\u001b[1;32m----> 1\u001b[1;33m \u001b[0mdf_notes_lequipe\u001b[0m\u001b[1;33m.\u001b[0m\u001b[0mgroupby\u001b[0m\u001b[1;33m(\u001b[0m\u001b[1;33m[\u001b[0m\u001b[1;34m'Joueur'\u001b[0m\u001b[1;33m]\u001b[0m\u001b[1;33m)\u001b[0m\u001b[1;33m[\u001b[0m\u001b[1;34m\"Note L'Equipe\"\u001b[0m\u001b[1;33m]\u001b[0m\u001b[1;33m.\u001b[0m\u001b[0mmean\u001b[0m\u001b[1;33m(\u001b[0m\u001b[1;33m)\u001b[0m\u001b[1;33m.\u001b[0m\u001b[0msort_values\u001b[0m\u001b[1;33m(\u001b[0m\u001b[0mby\u001b[0m \u001b[1;33m=\u001b[0m \u001b[1;34m\"Note L'Equipe\"\u001b[0m\u001b[1;33m,\u001b[0m \u001b[0mascending\u001b[0m \u001b[1;33m=\u001b[0m \u001b[1;32mFalse\u001b[0m\u001b[1;33m)\u001b[0m\u001b[1;33m\u001b[0m\u001b[1;33m\u001b[0m\u001b[0m\n\u001b[0m",
      "\u001b[1;31mNameError\u001b[0m: name 'df_notes_lequipe' is not defined"
     ]
    }
   ],
   "source": [
    "df_notes_lequipe.groupby(['Joueur'])[\"Note L'Equipe\"].mean().sort_values(ascending = False)"
   ]
  },
  {
   "cell_type": "markdown",
   "metadata": {
    "ExecuteTime": {
     "end_time": "2020-04-16T19:32:41.992071Z",
     "start_time": "2020-04-16T19:32:41.988089Z"
    }
   },
   "source": [
    "### Récupération des notes des arbitres et des entraîneurs après chaque match"
   ]
  },
  {
   "cell_type": "markdown",
   "metadata": {},
   "source": [
    "https://www.lequipe.fr/Football/les-notes/matchs/ligue-1/2019-2020/toutes-les-journees/"
   ]
  },
  {
   "cell_type": "code",
   "execution_count": null,
   "metadata": {},
   "outputs": [],
   "source": [
    "url= 'https://www.lequipe.fr/Football/les-notes/matchs/ligue-1/2019-2020/toutes-les-journees/'\n",
    "get_page(url)"
   ]
  },
  {
   "cell_type": "code",
   "execution_count": null,
   "metadata": {},
   "outputs": [],
   "source": [
    "url_match = []\n",
    "try : \n",
    "    for i in range(1,281):\n",
    "        url_match.append(browser.find_elements_by_class_name(\"list__item\")[i].find_element_by_tag_name('a').get_attribute(\"href\"))\n",
    "\n",
    "except: pass"
   ]
  },
  {
   "cell_type": "code",
   "execution_count": null,
   "metadata": {},
   "outputs": [],
   "source": [
    "   def get_notes_lequipe_coach(url):\n",
    "    \n",
    "    home_team = []\n",
    "    away_team = []\n",
    "    score = []\n",
    "    journee = []\n",
    "    equipe_entraineur_domicile = []\n",
    "    entraineur_domicile = []\n",
    "    note_entraineur_domicile = []\n",
    "    equipe_entraineur_exterieur = []\n",
    "    entraineur_exterieur = []\n",
    "    note_entraineur_exterieur = []\n",
    "    arbitre = []\n",
    "    note_arbitre = []\n",
    "\n",
    "\n",
    "    for k in range(len(url)):\n",
    "        try:\n",
    "            get_page(url[k])\n",
    "\n",
    "        except:\n",
    "            pass\n",
    "\n",
    "        try:\n",
    "            journee.append(browser.find_element_by_class_name(\n",
    "                \"SelectNav__selectWrapper\").text.rsplit(',', 2)[0].rsplit('\\n', 2)[1])\n",
    "            home_team.append(browser.find_element_by_class_name(\n",
    "                \"TeamScore\").find_elements_by_tag_name('a')[0].text)\n",
    "            away_team.append(browser.find_element_by_class_name(\n",
    "                \"TeamScore\").find_elements_by_tag_name('a')[2].text)\n",
    "            score.append(browser.find_element_by_class_name(\n",
    "                \"TeamScore\").find_elements_by_tag_name('a')[1].text)\n",
    "            entraineur_domicile.append(browser.find_elements_by_class_name(\n",
    "                \"RatingsArchivesPersonRating__personName\")[0].text)\n",
    "            entraineur_exterieur.append(browser.find_elements_by_class_name(\n",
    "                \"RatingsArchivesPersonRating__personName\")[1].text)\n",
    "            arbitre.append(browser.find_elements_by_class_name(\n",
    "                \"RatingsArchivesPersonRating__personName\")[2].text)\n",
    "            equipe_entraineur_domicile.append(browser.find_elements_by_class_name(\n",
    "                \"RatingsArchivesPersonRating__personInfo\")[0].text)\n",
    "            equipe_entraineur_exterieur.append(browser.find_elements_by_class_name(\n",
    "                \"RatingsArchivesPersonRating__personInfo\")[1].text)\n",
    "            note_arbitre.append(browser.find_elements_by_class_name(\n",
    "                \"RatingsArchivesPersonRating__ratingValue\")[2].text)\n",
    "            note_entraineur_domicile.append(browser.find_elements_by_class_name(\n",
    "                \"RatingsArchivesPersonRating__ratingValue\")[0].text)\n",
    "            note_entraineur_exterieur.append(browser.find_elements_by_class_name(\n",
    "                \"RatingsArchivesPersonRating__ratingValue\")[1].text)\n",
    "\n",
    "        except:\n",
    "            pass\n",
    "\n",
    "    home_team = pd.DataFrame(home_team, columns=['HomeTeam'])\n",
    "    away_team = pd.DataFrame(away_team, columns=['AwayTeam'])\n",
    "    journee = pd.DataFrame(journee, columns=['Journée'])\n",
    "    score = pd.DataFrame(score, columns=['Score'])\n",
    "    entraineur_domicile = pd.DataFrame(\n",
    "        entraineur_domicile, columns=['Entraineur Domicile'])\n",
    "    equipe_entraineur_domicile = pd.DataFrame(\n",
    "        equipe_entraineur_domicile, columns=['Equipe Coach Dom'])\n",
    "    note_entraineur_domicile = pd.DataFrame(\n",
    "        note_entraineur_domicile, columns=[\"Note Coach Dom\"])\n",
    "    entraineur_exterieur = pd.DataFrame(\n",
    "        entraineur_exterieur, columns=['Entraineur Exterieur'])\n",
    "    equipe_entraineur_exterieur = pd.DataFrame(\n",
    "        equipe_entraineur_exterieur, columns=['Equipe Coach Ext'])\n",
    "    note_entraineur_exterieur = pd.DataFrame(\n",
    "        note_entraineur_exterieur, columns=[\"Note Coach Ext\"])\n",
    "    arbitre = pd.DataFrame(arbitre, columns=['Arbitre'])\n",
    "    note_arbitre = pd.DataFrame(note_arbitre, columns=['Note Arbitre'])\n",
    "\n",
    "\n",
    "    df_notes_lequipe_coach = pd.concat([journee, home_team, away_team, score, entraineur_domicile,\n",
    "                                  equipe_entraineur_domicile, note_entraineur_domicile, entraineur_exterieur, \n",
    "                                  equipe_entraineur_exterieur, note_entraineur_exterieur, arbitre, note_arbitre], axis=1)\n",
    "    df_notes_lequipe_coach.to_excel(\n",
    "        \"Données/Notes_Lequipe/df_notes_lequipe_coach.xls\", index=False)\n",
    "    \n",
    "    return df_notes_lequipe_coach"
   ]
  },
  {
   "cell_type": "code",
   "execution_count": null,
   "metadata": {},
   "outputs": [],
   "source": [
    "get_notes_lequipe_coach(url_match)"
   ]
  },
  {
   "cell_type": "code",
   "execution_count": null,
   "metadata": {},
   "outputs": [],
   "source": [
    "df_notes_lequipe_coach = pd.read_excel('Données/Notes_Lequipe/df_notes_lequipe_coach.xls')"
   ]
  },
  {
   "cell_type": "code",
   "execution_count": null,
   "metadata": {},
   "outputs": [],
   "source": [
    "df_notes_lequipe_coach.head(10)"
   ]
  }
 ],
 "metadata": {
  "kernelspec": {
   "display_name": "Python 3",
   "language": "python",
   "name": "python3"
  },
  "language_info": {
   "codemirror_mode": {
    "name": "ipython",
    "version": 3
   },
   "file_extension": ".py",
   "mimetype": "text/x-python",
   "name": "python",
   "nbconvert_exporter": "python",
   "pygments_lexer": "ipython3",
   "version": "3.7.4"
  },
  "toc": {
   "base_numbering": 1,
   "nav_menu": {},
   "number_sections": true,
   "sideBar": true,
   "skip_h1_title": true,
   "title_cell": "Table of Contents",
   "title_sidebar": "Contents",
   "toc_cell": false,
   "toc_position": {},
   "toc_section_display": true,
   "toc_window_display": true
  }
 },
 "nbformat": 4,
 "nbformat_minor": 2
}
